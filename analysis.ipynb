{
 "cells": [
  {
   "cell_type": "markdown",
   "metadata": {},
   "source": [
    "# Sleep data analysis notebook"
   ]
  },
  {
   "cell_type": "code",
   "execution_count": null,
   "metadata": {},
   "outputs": [],
   "source": [
    "%matplotlib inline\n",
    "import graph\n",
    "\n",
    "import glob\n",
    "import numpy as np\n",
    "import pandas as pd\n",
    "import datetime as dt\n",
    "\n",
    "from scipy.interpolate import interp1d\n",
    "from sklearn.decomposition import PCA\n",
    "from sklearn.cluster import KMeans\n",
    "\n",
    "from matplotlib import dates as mdates, pyplot as plt\n",
    "\n",
    "DAY_SECONDS = 24 * 60 * 60\n",
    "TIMEZONE = 1 * 60 * 60\n",
    "COLUMNS = {'active': 'General Activity', 'vc_0': 'Web Status', 'vc_8': 'FB App Status', 'vc_74': 'Messenger Status', 'vc_10':'Other Status', 'type': 'Activity Type'}"
   ]
  },
  {
   "cell_type": "markdown",
   "metadata": {},
   "source": [
    "### Read data and display statistics"
   ]
  },
  {
   "cell_type": "code",
   "execution_count": null,
   "metadata": {
    "scrolled": false
   },
   "outputs": [],
   "source": [
    "# read data\n",
    "names = glob.glob('./generated_graphs/csv/*.csv')\n",
    "dataframes = [pd.read_csv(f).rename(columns=COLUMNS).dropna() for f in names]\n",
    "    \n",
    "USERS = len(dataframes)\n",
    "\n",
    "for i in range(USERS):\n",
    "    dataframes[i]['time'] += TIMEZONE\n",
    "\n",
    "print(\"Loaded data gathered from {0} people\".format(USERS))\n",
    "\n",
    "start = np.min(pd.concat(dataframes)['time'].dropna(0))\n",
    "end = np.max(pd.concat(dataframes)['time'].dropna(0))\n",
    "\n",
    "print('First registered data point at {0} local time\\nLast registered data point at {1} local time'.format(dt.datetime.utcfromtimestamp(start), dt.datetime.utcfromtimestamp(end)))\n",
    "\n",
    "for i in range(USERS):\n",
    "    dataframes[i]['time'] -= start\n",
    "    \n",
    "end = np.max(pd.concat(dataframes)['time'])\n",
    "print('Gathered data over {0}'.format(dt.datetime.utcfromtimestamp(end - DAY_SECONDS).strftime('%d days, %H:%M')))"
   ]
  },
  {
   "cell_type": "markdown",
   "metadata": {},
   "source": [
    "### Interpolate data to get timeseries of set width"
   ]
  },
  {
   "cell_type": "code",
   "execution_count": null,
   "metadata": {},
   "outputs": [],
   "source": [
    "# default timeseries width is 2 minutes\n",
    "SERIES_WIDTH = 2 * 60\n",
    "POINTS_IN_DAY = np.round(DAY_SECONDS / SERIES_WIDTH).astype(int)"
   ]
  },
  {
   "cell_type": "code",
   "execution_count": null,
   "metadata": {},
   "outputs": [],
   "source": [
    "series = []\n",
    "timeseries = np.arange(0, end, SERIES_WIDTH)\n",
    "\n",
    "for i in range(USERS):\n",
    "    interpolate = interp1d(dataframes[i]['time'], dataframes[i].iloc[:, 1:], axis=0, kind='nearest', bounds_error=False, fill_value=np.zeros(dataframes[i].shape[1] - 1))\n",
    "    df = pd.DataFrame(columns=dataframes[0].columns)\n",
    "    df['time'] = timeseries\n",
    "    df.iloc[:, 1:] = np.round(interpolate(timeseries))\n",
    "    series.append(df)\n",
    "    \n",
    "series[0].head()"
   ]
  },
  {
   "cell_type": "code",
   "execution_count": null,
   "metadata": {
    "scrolled": true
   },
   "outputs": [],
   "source": [
    "interesting = ['General Activity', 'Messenger Status', 'FB App Status', 'Web Status']\n",
    "\n",
    "dataset = dataframes[0]\n",
    "events = [dataset[dataset[key] == 1]['time'] for key in interesting]\n",
    "\n",
    "dataset = series[0]\n",
    "events_series = [dataset[dataset[key] == 1]['time'] for key in interesting]\n",
    "\n",
    "fig = plt.figure(figsize=[20, 5])\n",
    "\n",
    "ax = fig.add_subplot(1, 2, 1)\n",
    "for (event, place, color) in zip(events, range(4), ['blue', 'orange', 'green', 'red']):\n",
    "    ax.eventplot(event, color=color, lineoffsets=place, linewidths = 0.5)\n",
    "ax.set_title('Gathered data eventplot')\n",
    "ax.set_xlabel('Timestamp')\n",
    "ax.legend(interesting)\n",
    "\n",
    "ax = fig.add_subplot(1, 2, 2)\n",
    "for (event, place, color) in zip(events_series, range(4), ['blue', 'orange', 'green', 'red']):\n",
    "    ax.eventplot(event, color=color, lineoffsets=place, linewidths = 0.5)\n",
    "ax.set_title('Interpolated timeseries eventplot')\n",
    "ax.set_xlabel('Timestamp')\n",
    "ax.legend(interesting)\n",
    "\n",
    "plt.show()"
   ]
  },
  {
   "cell_type": "markdown",
   "metadata": {},
   "source": [
    "### Reshape data to get individual days"
   ]
  },
  {
   "cell_type": "code",
   "execution_count": null,
   "metadata": {
    "scrolled": true
   },
   "outputs": [],
   "source": [
    "DAYS = np.floor(end / DAY_SECONDS).astype(int)\n",
    "FEATURES = len(dataframes[0].columns)\n",
    "\n",
    "data = np.zeros((USERS, DAYS, POINTS_IN_DAY, FEATURES))\n",
    "\n",
    "t = dt.datetime.utcfromtimestamp(start)\n",
    "t2 = t.hour * 3600 + t.minute * 60 + t.second\n",
    "\n",
    "for i in range(USERS):\n",
    "    for j in range(DAYS):\n",
    "        data[i, j] = series[i].iloc[j * POINTS_IN_DAY : (j + 1) * POINTS_IN_DAY]\n",
    "        data[i, j, :, 0] = (data[i, j, :, 0] + t2) % DAY_SECONDS\n",
    "        \n",
    "print('Final dataset shape: {0}'.format(data.shape))\n",
    "print('Sample (user 0, day 0):\\n{0}'.format(data[0, 0]))"
   ]
  },
  {
   "cell_type": "code",
   "execution_count": null,
   "metadata": {},
   "outputs": [],
   "source": [
    "average = pd.DataFrame(columns=dataframes[0].columns)\n",
    "average['time'] = data[0, 0, :, 0]\n",
    "\n",
    "av = np.zeros((POINTS_IN_DAY, FEATURES - 1))\n",
    "for i in range(USERS):\n",
    "    for j in range(DAYS):\n",
    "        av += data[i, j, :, 1:]\n",
    "        \n",
    "av /= (USERS * DAYS)\n",
    "\n",
    "average.iloc[:, 1:] = av\n",
    "print('{0} full days worth of data collected'.format(DAYS))\n",
    "average.describe()"
   ]
  },
  {
   "cell_type": "markdown",
   "metadata": {},
   "source": [
    "### Plot individual features of datasets"
   ]
  },
  {
   "cell_type": "code",
   "execution_count": null,
   "metadata": {},
   "outputs": [],
   "source": [
    "def plot_feature(input_dataset, feature):\n",
    "    assert input_dataset.shape == (POINTS_IN_DAY, FEATURES)\n",
    "    dataset = input_dataset.sort_values('time')\n",
    "    \n",
    "    plt.figure(figsize=(20,10))\n",
    "\n",
    "    # activity\n",
    "    ax1 = plt.subplot(211)\n",
    "    xs = [dt.datetime.utcfromtimestamp(t) for t in dataset['time']]\n",
    "    ax1.stackplot(xs, dataset[feature].transpose())\n",
    "\n",
    "    plt.gca().xaxis.set_major_formatter(mdates.DateFormatter('%H:%M'))\n",
    "    plt.gca().xaxis.set_major_locator(mdates.HourLocator())\n",
    "    plt.gcf().autofmt_xdate()\n",
    "    plt.legend([feature])\n",
    "    plt.xlabel('Time during the day')\n",
    "    \n",
    "plot_feature(average, 'Messenger Status')"
   ]
  },
  {
   "cell_type": "markdown",
   "metadata": {},
   "source": [
    "### Plot everyday activity habits"
   ]
  },
  {
   "cell_type": "code",
   "execution_count": null,
   "metadata": {
    "scrolled": false
   },
   "outputs": [],
   "source": [
    "def plot_habits(dataset, bounds='auto'):\n",
    "    daily = False\n",
    "    if dataset.shape[0] == POINTS_IN_DAY:\n",
    "        daily = True\n",
    "        dataset = dataset.sort_values('time')\n",
    "    \n",
    "    plt.figure(figsize=(20,10))\n",
    "\n",
    "    # activity\n",
    "    ax1 = plt.subplot(211)\n",
    "    xs = [dt.datetime.utcfromtimestamp(t) for t in dataset['time']]\n",
    "    ax1.stackplot(xs, dataset['General Activity'].transpose())\n",
    "    \n",
    "    if daily:\n",
    "        plt.gca().xaxis.set_major_formatter(mdates.DateFormatter('%H:%M'))\n",
    "        plt.gca().xaxis.set_major_locator(mdates.HourLocator())\n",
    "    else:\n",
    "        plt.gca().xaxis.set_major_formatter(mdates.DateFormatter('%d'))\n",
    "        plt.gca().xaxis.set_major_locator(mdates.DayLocator())\n",
    "    \n",
    "    plt.gcf().autofmt_xdate()\n",
    "    plt.legend([dataset.columns[1]])\n",
    "    \n",
    "    if bounds != 'auto':\n",
    "        plt.ylim(bounds)\n",
    "\n",
    "    # divided into classes\n",
    "    ax2 = plt.subplot(212, sharex=ax1)\n",
    "    ax2.stackplot(xs, dataset[['Web Status', 'FB App Status', 'Other Status', 'Messenger Status']].transpose())\n",
    "\n",
    "    if daily:\n",
    "        plt.gca().xaxis.set_major_formatter(mdates.DateFormatter('%H:%M'))\n",
    "        plt.gca().xaxis.set_major_locator(mdates.HourLocator())\n",
    "    else:\n",
    "        plt.gca().xaxis.set_major_formatter(mdates.DateFormatter('%y-%m-%d'))\n",
    "        plt.gca().xaxis.set_major_locator(mdates.DayLocator())\n",
    "    \n",
    "    plt.gcf().autofmt_xdate()\n",
    "    \n",
    "    if bounds != 'auto':\n",
    "        plt.ylim(bounds)\n",
    "\n",
    "    plt.legend(dataset.columns[2:-1])\n",
    "    plt.xlabel('Time')\n",
    "    plt.show()\n",
    "    \n",
    "def find_name(name):\n",
    "    for i in range(USERS):\n",
    "        if name in names[i]:\n",
    "            return i\n",
    "    raise Exception('User {0} not found!'.format(name))\n",
    "\n",
    "def user_average(name):\n",
    "    i = find_name(name)\n",
    "\n",
    "    average = pd.DataFrame(columns=dataframes[0].columns)\n",
    "    average['time'] = data[i, 0, :, 0].astype(int)\n",
    "\n",
    "    av = np.zeros((POINTS_IN_DAY, FEATURES - 1))\n",
    "    for j in range(DAYS):\n",
    "        av += data[i, j, :, 1:] / DAYS\n",
    "\n",
    "    average.iloc[:, 1:] = av\n",
    "    return average"
   ]
  },
  {
   "cell_type": "code",
   "execution_count": null,
   "metadata": {},
   "outputs": [],
   "source": [
    "plot_habits(average)"
   ]
  },
  {
   "cell_type": "code",
   "execution_count": null,
   "metadata": {},
   "outputs": [],
   "source": [
    "plot_habits(user_average('#REDACTED#'))"
   ]
  },
  {
   "cell_type": "markdown",
   "metadata": {},
   "source": [
    "### PCA dimensionality reduction and outlier detection"
   ]
  },
  {
   "cell_type": "code",
   "execution_count": null,
   "metadata": {},
   "outputs": [],
   "source": [
    "n_components = 2\n",
    "\n",
    "daily = np.mean(data, axis=1).reshape((USERS, POINTS_IN_DAY * FEATURES))\n",
    "pca = PCA(n_components, svd_solver='full')\n",
    "pca.fit(daily)\n",
    "\n",
    "daily_pca = pca.transform(daily)\n",
    "\n",
    "print('Data reduced from {0} to {1} dimensions'.format(POINTS_IN_DAY * FEATURES, pca.n_components_))\n",
    "size_ratio = pca.n_components_ / (POINTS_IN_DAY * FEATURES)\n",
    "print('{:d}x reduction in size ({:.2%} original), {:.2%} variance'.format(np.floor(1 / size_ratio).astype(int), size_ratio, np.sum(pca.explained_variance_ratio_)))"
   ]
  },
  {
   "cell_type": "code",
   "execution_count": null,
   "metadata": {},
   "outputs": [],
   "source": [
    "target = '#REDACTED#'\n",
    "index = find_name(target)\n",
    "\n",
    "km = KMeans(n_clusters = 6)\n",
    "clusters = km.fit_predict(daily)\n",
    "\n",
    "fig = plt.figure(figsize=(8, 5))\n",
    "plt.scatter(daily_pca[:, 0], daily_pca[:, 1], c=clusters, marker='.')\n",
    "plt.scatter(daily_pca[index, 0], daily_pca[index, 1], c='red', marker='x', s=75)\n",
    "plt.title('{0} - dimensional PCA, {1}-means clustering'.format(pca.n_components_, km.n_clusters))\n",
    "plt.legend(['everyone', target])\n",
    "plt.show()"
   ]
  },
  {
   "cell_type": "code",
   "execution_count": null,
   "metadata": {},
   "outputs": [],
   "source": [
    "def user_data(name):\n",
    "    i = find_name(name)\n",
    "\n",
    "    ret = pd.DataFrame(columns=dataframes[0].columns)\n",
    "    ret['time'] = timeseries + start\n",
    "    ret.iloc[:, 1:] = series[i]\n",
    "    ret['Day Time'] = (timeseries + t2) % DAY_SECONDS\n",
    "\n",
    "    return ret\n",
    "\n",
    "outlier = user_data('#REDACTED#')\n",
    "plot_habits(outlier)"
   ]
  },
  {
   "cell_type": "markdown",
   "metadata": {},
   "source": [
    "### PCA latent space sampling"
   ]
  },
  {
   "cell_type": "code",
   "execution_count": null,
   "metadata": {},
   "outputs": [],
   "source": [
    "from ipywidgets import *\n",
    "\n",
    "def sample_PCA(pca, **kwargs):\n",
    "    vector = np.zeros(pca.n_components_)\n",
    "    i = 0\n",
    "    for value in kwargs.values():\n",
    "        vector[i] = value\n",
    "        i += 1\n",
    "    \n",
    "    inverse = pca.inverse_transform(vector).reshape((POINTS_IN_DAY, FEATURES))\n",
    "    average = pd.DataFrame(columns=dataframes[0].columns)\n",
    "    average['time'] = inverse[:, 0]\n",
    "    average.iloc[:, 1:] = inverse[:, 1:]\n",
    "    plot_habits(average, [-0.1, 0.5])\n",
    "    \n",
    "def interactivePCA(dims, person=False):\n",
    "    pca = PCA(n_components=dims, svd_solver='full')\n",
    "    pca.fit(daily)\n",
    "    dims = pca.n_components_\n",
    "    if not person:\n",
    "        vals = np.zeros(dims)\n",
    "    else:\n",
    "        vals = pca.transform(daily[find_name(person)].reshape((1, POINTS_IN_DAY * FEATURES))).flatten()\n",
    "\n",
    "    sliders = [widgets.FloatSlider(value=vals[i], min=-6, max=6, step=1, description='feature ' + str(i), orientation='vertical') for i in range(dims)]\n",
    "    kwargs = dict(zip(['feature_' + str(t) for t in range(dims)], sliders))\n",
    "    out = interactive_output(lambda **kwargs: sample_PCA(pca, **kwargs), kwargs)\n",
    "    display(VBox([HBox(sliders), out]))\n",
    "        \n",
    "interactivePCA(12, '#REDACTED#')"
   ]
  },
  {
   "cell_type": "markdown",
   "metadata": {},
   "source": [
    "### Predicting user's sleep patterns for incoming days\n",
    "This doesn't work as of now, will try again when more data is collected"
   ]
  },
  {
   "cell_type": "code",
   "execution_count": null,
   "metadata": {},
   "outputs": [],
   "source": [
    "from keras.models import Sequential\n",
    "from keras.layers import Input, SimpleRNN, LSTM, Dense, Activation\n",
    "from keras.losses import MSE\n",
    "from sklearn.preprocessing import StandardScaler"
   ]
  },
  {
   "cell_type": "code",
   "execution_count": null,
   "metadata": {
    "scrolled": true
   },
   "outputs": [],
   "source": [
    "data_train = user_data('#REDACTED#')\n",
    "X_train = data_train.drop(columns=['time', 'Other Status', 'Activity Type'])\n",
    "\n",
    "hours = 2\n",
    "width = np.floor(hours * 3600 / SERIES_WIDTH).astype(int)\n",
    "\n",
    "n, m = X_train.shape\n",
    "n -= width\n",
    "\n",
    "def generate_series(X, width):\n",
    "    k, _ = X.shape\n",
    "    for i in range(k - width):\n",
    "        yield X.iloc[i:i + width, :]\n",
    "        \n",
    "def generate_next(X, width):\n",
    "    k, _ = X.shape\n",
    "    for i in range(width, k):\n",
    "        yield X.iloc[i, :-1]\n",
    "        \n",
    "X = np.reshape([np.array(t) for t in generate_series(X_train, width)], (n, width * m))\n",
    "\n",
    "std = StandardScaler().fit(X)\n",
    "X = np.reshape(std.transform(X), (n, width, m))\n",
    "\n",
    "y = np.reshape([np.array(t) for t in generate_next(X_train, width)], (n, m - 1))\n",
    "\n",
    "print('X shape: {0}\\ny shape: {1}'.format(X.shape, y.shape))\n",
    "\n",
    "model = Sequential()\n",
    "\n",
    "model.add(SimpleRNN(128, use_bias=True, return_sequences=False, input_shape=(width, m)))\n",
    "model.add(Dense(m - 1, use_bias=True))\n",
    "model.add(Activation('sigmoid'))\n",
    "model.compile(optimizer='rmsprop', loss='mse', metrics=['accuracy'])\n",
    "\n",
    "history = model.fit(X, y, batch_size=512, epochs=100)"
   ]
  },
  {
   "cell_type": "code",
   "execution_count": null,
   "metadata": {},
   "outputs": [],
   "source": [
    "model.evaluate(X, y)"
   ]
  },
  {
   "cell_type": "code",
   "execution_count": null,
   "metadata": {},
   "outputs": [],
   "source": [
    "fig = plt.figure(figsize=(20, 5))\n",
    "\n",
    "ax = fig.add_subplot(121)\n",
    "ax.plot(history.history['loss'])\n",
    "\n",
    "plt.title('Learning curve')\n",
    "plt.xlabel('Iteration')\n",
    "plt.ylabel('Loss')\n",
    "\n",
    "ax = fig.add_subplot(122)\n",
    "ax.plot(history.history['acc'])\n",
    "\n",
    "plt.title('Accuracy')\n",
    "plt.xlabel('Iteration')\n",
    "plt.ylabel('Accuracy')\n",
    "\n",
    "vals = ax.get_yticks()\n",
    "ax.set_yticklabels(['{:.0%}'.format(x) for x in vals])\n",
    "\n",
    "plt.show()"
   ]
  },
  {
   "cell_type": "code",
   "execution_count": null,
   "metadata": {},
   "outputs": [],
   "source": [
    "tmp = pd.DataFrame(columns=data_train.columns)\n",
    "tmp['time'] = data_train.loc[width:, 'time']\n",
    "tmp.iloc[:, [1, 2, 3, 5]] = y\n",
    "tmp = tmp.fillna(0)\n",
    "\n",
    "plot_habits(tmp)"
   ]
  },
  {
   "cell_type": "code",
   "execution_count": null,
   "metadata": {},
   "outputs": [],
   "source": [
    "y_pred = model.predict(X)\n",
    "\n",
    "def mse(y_pred, y_true):\n",
    "    return np.mean(np.power(y_pred - y_true, 2))\n",
    "\n",
    "print('Not rounded:', mse(y_pred, y))\n",
    "print('Rounded:', mse(np.round(y_pred), y))"
   ]
  },
  {
   "cell_type": "code",
   "execution_count": null,
   "metadata": {},
   "outputs": [],
   "source": [
    "pred_df = pd.DataFrame(columns=data_train.columns)\n",
    "pred_df['time'] = data_train.loc[width:, 'time']\n",
    "pred_df.iloc[:, [1, 2, 3, 5]] = np.round(y_pred)\n",
    "pred_df = pred_df.fillna(0)\n",
    "\n",
    "plot_habits(pred_df)"
   ]
  },
  {
   "cell_type": "code",
   "execution_count": null,
   "metadata": {},
   "outputs": [],
   "source": [
    "def sample_model(model, start, start_index, samples = 200):\n",
    "    width, _ = model.get_input_shape_at(0)[1:]\n",
    "    X = np.array(start.iloc[start_index:start_index + width, [1, 2, 3, 5, 7]])\n",
    "    \n",
    "    for _ in range(samples):\n",
    "        yield X[0]\n",
    "        p = model.predict(std.transform(X.reshape((1, width * m))).reshape((1, width, m)))\n",
    "        X = np.roll(X, -1, axis=0)\n",
    "        X[-1, : m - 1] = np.round(p)\n",
    "        X[-1, -1] = (X[-2, -1] + SERIES_WIDTH) % DAY_SECONDS\n",
    "\n",
    "samples = 2 * width\n",
    "start = user_data('#REDACTED#')\n",
    "start_index = np.random.randint(0, start.shape[0] - width)\n",
    "\n",
    "new = np.array([g for g in sample_model(model, start, start_index, samples)])\n",
    "\n",
    "gen_df = pd.DataFrame(columns=data_train.columns)\n",
    "gen_df['time'] = start.loc[start_index:start_index + samples - 1, 'time']\n",
    "gen_df.iloc[:, [1,2,3,5,7]] = np.reshape(new, (samples, m))\n",
    "gen_df = gen_df.drop(columns=['Activity Type'])\n",
    "\n",
    "plot_habits(gen_df)"
   ]
  },
  {
   "cell_type": "code",
   "execution_count": null,
   "metadata": {},
   "outputs": [],
   "source": []
  }
 ],
 "metadata": {
  "kernelspec": {
   "display_name": "Python 3",
   "language": "python",
   "name": "python3"
  },
  "language_info": {
   "codemirror_mode": {
    "name": "ipython",
    "version": 3
   },
   "file_extension": ".py",
   "mimetype": "text/x-python",
   "name": "python",
   "nbconvert_exporter": "python",
   "pygments_lexer": "ipython3",
   "version": "3.7.1"
  }
 },
 "nbformat": 4,
 "nbformat_minor": 2
}
